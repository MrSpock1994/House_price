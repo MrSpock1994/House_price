{
 "cells": [
  {
   "cell_type": "code",
   "execution_count": 1,
   "id": "d36bc6f5",
   "metadata": {},
   "outputs": [],
   "source": [
    "import tensorflow as tf\n",
    "import numpy as np\n",
    "import pandas as pd\n",
    "import seaborn as sns\n",
    "import matplotlib.pyplot as plt\n",
    "from tensorflow import keras\n",
    "from tensorflow.keras import layers"
   ]
  },
  {
   "cell_type": "code",
   "execution_count": 2,
   "id": "9788654c",
   "metadata": {},
   "outputs": [],
   "source": [
    "columns_names = ['CRIM', 'ZN', 'INDUS', 'CHAS', 'NOX', 'RM', 'AGE', 'DIS', 'RAD', 'TAX', 'PTRATION', 'B', 'LSTAT', 'MEDV']"
   ]
  },
  {
   "cell_type": "code",
   "execution_count": 3,
   "id": "9a86a87b",
   "metadata": {},
   "outputs": [],
   "source": [
    "df = pd.read_csv(\"housing.csv\", names = columns_names, na_values = \"?\", sep = \" \", skipinitialspace = True)"
   ]
  },
  {
   "cell_type": "code",
   "execution_count": 4,
   "id": "93a14ea8",
   "metadata": {},
   "outputs": [
    {
     "data": {
      "text/html": [
       "<div>\n",
       "<style scoped>\n",
       "    .dataframe tbody tr th:only-of-type {\n",
       "        vertical-align: middle;\n",
       "    }\n",
       "\n",
       "    .dataframe tbody tr th {\n",
       "        vertical-align: top;\n",
       "    }\n",
       "\n",
       "    .dataframe thead th {\n",
       "        text-align: right;\n",
       "    }\n",
       "</style>\n",
       "<table border=\"1\" class=\"dataframe\">\n",
       "  <thead>\n",
       "    <tr style=\"text-align: right;\">\n",
       "      <th></th>\n",
       "      <th>CRIM</th>\n",
       "      <th>ZN</th>\n",
       "      <th>INDUS</th>\n",
       "      <th>CHAS</th>\n",
       "      <th>NOX</th>\n",
       "      <th>RM</th>\n",
       "      <th>AGE</th>\n",
       "      <th>DIS</th>\n",
       "      <th>RAD</th>\n",
       "      <th>TAX</th>\n",
       "      <th>PTRATION</th>\n",
       "      <th>B</th>\n",
       "      <th>LSTAT</th>\n",
       "      <th>MEDV</th>\n",
       "    </tr>\n",
       "  </thead>\n",
       "  <tbody>\n",
       "    <tr>\n",
       "      <th>0</th>\n",
       "      <td>0.00632</td>\n",
       "      <td>18.0</td>\n",
       "      <td>2.31</td>\n",
       "      <td>0</td>\n",
       "      <td>0.538</td>\n",
       "      <td>6.575</td>\n",
       "      <td>65.2</td>\n",
       "      <td>4.0900</td>\n",
       "      <td>1</td>\n",
       "      <td>296.0</td>\n",
       "      <td>15.3</td>\n",
       "      <td>396.90</td>\n",
       "      <td>4.98</td>\n",
       "      <td>24.0</td>\n",
       "    </tr>\n",
       "    <tr>\n",
       "      <th>1</th>\n",
       "      <td>0.02731</td>\n",
       "      <td>0.0</td>\n",
       "      <td>7.07</td>\n",
       "      <td>0</td>\n",
       "      <td>0.469</td>\n",
       "      <td>6.421</td>\n",
       "      <td>78.9</td>\n",
       "      <td>4.9671</td>\n",
       "      <td>2</td>\n",
       "      <td>242.0</td>\n",
       "      <td>17.8</td>\n",
       "      <td>396.90</td>\n",
       "      <td>9.14</td>\n",
       "      <td>21.6</td>\n",
       "    </tr>\n",
       "    <tr>\n",
       "      <th>2</th>\n",
       "      <td>0.02729</td>\n",
       "      <td>0.0</td>\n",
       "      <td>7.07</td>\n",
       "      <td>0</td>\n",
       "      <td>0.469</td>\n",
       "      <td>7.185</td>\n",
       "      <td>61.1</td>\n",
       "      <td>4.9671</td>\n",
       "      <td>2</td>\n",
       "      <td>242.0</td>\n",
       "      <td>17.8</td>\n",
       "      <td>392.83</td>\n",
       "      <td>4.03</td>\n",
       "      <td>34.7</td>\n",
       "    </tr>\n",
       "    <tr>\n",
       "      <th>3</th>\n",
       "      <td>0.03237</td>\n",
       "      <td>0.0</td>\n",
       "      <td>2.18</td>\n",
       "      <td>0</td>\n",
       "      <td>0.458</td>\n",
       "      <td>6.998</td>\n",
       "      <td>45.8</td>\n",
       "      <td>6.0622</td>\n",
       "      <td>3</td>\n",
       "      <td>222.0</td>\n",
       "      <td>18.7</td>\n",
       "      <td>394.63</td>\n",
       "      <td>2.94</td>\n",
       "      <td>33.4</td>\n",
       "    </tr>\n",
       "    <tr>\n",
       "      <th>4</th>\n",
       "      <td>0.06905</td>\n",
       "      <td>0.0</td>\n",
       "      <td>2.18</td>\n",
       "      <td>0</td>\n",
       "      <td>0.458</td>\n",
       "      <td>7.147</td>\n",
       "      <td>54.2</td>\n",
       "      <td>6.0622</td>\n",
       "      <td>3</td>\n",
       "      <td>222.0</td>\n",
       "      <td>18.7</td>\n",
       "      <td>396.90</td>\n",
       "      <td>5.33</td>\n",
       "      <td>36.2</td>\n",
       "    </tr>\n",
       "  </tbody>\n",
       "</table>\n",
       "</div>"
      ],
      "text/plain": [
       "      CRIM    ZN  INDUS  CHAS    NOX     RM   AGE     DIS  RAD    TAX  \\\n",
       "0  0.00632  18.0   2.31     0  0.538  6.575  65.2  4.0900    1  296.0   \n",
       "1  0.02731   0.0   7.07     0  0.469  6.421  78.9  4.9671    2  242.0   \n",
       "2  0.02729   0.0   7.07     0  0.469  7.185  61.1  4.9671    2  242.0   \n",
       "3  0.03237   0.0   2.18     0  0.458  6.998  45.8  6.0622    3  222.0   \n",
       "4  0.06905   0.0   2.18     0  0.458  7.147  54.2  6.0622    3  222.0   \n",
       "\n",
       "   PTRATION       B  LSTAT  MEDV  \n",
       "0      15.3  396.90   4.98  24.0  \n",
       "1      17.8  396.90   9.14  21.6  \n",
       "2      17.8  392.83   4.03  34.7  \n",
       "3      18.7  394.63   2.94  33.4  \n",
       "4      18.7  396.90   5.33  36.2  "
      ]
     },
     "execution_count": 4,
     "metadata": {},
     "output_type": "execute_result"
    }
   ],
   "source": [
    "df.head()"
   ]
  },
  {
   "cell_type": "code",
   "execution_count": 5,
   "id": "0085ab6c",
   "metadata": {},
   "outputs": [],
   "source": [
    "# We are going to split our data in 80% training and 20% test\n",
    "training_data = df.sample(frac = 0.8, random_state = 0)\n",
    "test_data = df.drop(training_data.index)"
   ]
  },
  {
   "cell_type": "code",
   "execution_count": 6,
   "id": "821d7d01",
   "metadata": {},
   "outputs": [],
   "source": [
    "#Our input variable will be RM and our target MEDV"
   ]
  },
  {
   "cell_type": "code",
   "execution_count": 7,
   "id": "810b9147",
   "metadata": {},
   "outputs": [
    {
     "data": {
      "image/png": "[encoded data removed]",
      "text/plain": [
       "<Figure size 432x288 with 1 Axes>"
      ]
     },
     "metadata": {
      "needs_background": "light"
     },
     "output_type": "display_data"
    }
   ],
   "source": [
    "# ploting the training data\n",
    "fig, ax = plt.subplots()\n",
    "x = training_data['RM']\n",
    "y = training_data['MEDV']\n",
    "ax.scatter(x, y, edgecolors = (0, 0, 0))\n",
    "ax.set_xlabel('RM')\n",
    "ax.set_ylabel('MEDV')\n",
    "plt.show()"
   ]
  },
  {
   "cell_type": "code",
   "execution_count": 8,
   "id": "2ea8dcf0",
   "metadata": {},
   "outputs": [],
   "source": [
    "x_training = training_data['RM']\n",
    "y_training = training_data['MEDV']\n",
    "x_test = test_data['RM']\n",
    "y_test = test_data['MEDV']"
   ]
  },
  {
   "cell_type": "code",
   "execution_count": 9,
   "id": "41feb5e6",
   "metadata": {},
   "outputs": [],
   "source": [
    "def linear_model():\n",
    "    model = keras.Sequential([layers.Dense(1, use_bias = True, input_shape = (1,), name = 'layer')])\n",
    "    optimizer = tf.keras.optimizers.Adam(learning_rate = 0.01,\n",
    "                                         beta_1 = 0.9,\n",
    "                                         beta_2 = 0.99,\n",
    "                                         epsilon = 1e-05,\n",
    "                                         amsgrad = False,\n",
    "                                         name = 'Adam')\n",
    "    model.compile(loss = 'mse', optimizer = optimizer, metrics = ['mae', 'mse'])\n",
    "\n",
    "    return model"
   ]
  },
  {
   "cell_type": "code",
   "execution_count": 10,
   "id": "1c065646",
   "metadata": {},
   "outputs": [],
   "source": [
    "model = linear_model()"
   ]
  },
  {
   "cell_type": "code",
   "execution_count": 12,
   "id": "8d5942b6",
   "metadata": {},
   "outputs": [],
   "source": [
    "# Training the model\n",
    "n_epochs = 4000\n",
    "batch_size = 256\n",
    "n_idle_epochs = 100\n",
    "n_epochs_log = 200\n",
    "n_samples_save = n_epochs_log * x_training.shape[0]\n"
   ]
  },
  {
   "cell_type": "code",
   "execution_count": 14,
   "id": "f0316a1b",
   "metadata": {},
   "outputs": [],
   "source": [
    "# Callback - we can use earlystopping to avoid overfitting \n",
    "earlyStopping = tf.keras.callbacks.EarlyStopping(monitor = 'val_loss', patience = n_idle_epochs, min_delta = 0.0001)"
   ]
  },
  {
   "cell_type": "code",
   "execution_count": 16,
   "id": "a49d8db3",
   "metadata": {},
   "outputs": [],
   "source": [
    "prediction_list = []\n",
    "checkpoint_path = \"dados/\""
   ]
  },
  {
   "cell_type": "code",
   "execution_count": 33,
   "id": "d02e836b",
   "metadata": {},
   "outputs": [],
   "source": [
    "checkpointCallback = tf.keras.callbacks.ModelCheckpoint(filepath = \"dados/\", verbose = 0, save_weights_only = True, save_freq = n_samples_save)"
   ]
  },
  {
   "cell_type": "code",
   "execution_count": 34,
   "id": "3e9f598d",
   "metadata": {},
   "outputs": [],
   "source": [
    "#saving the first version\n",
    "model.save_weights(checkpoint_path.format(epoch = 0))"
   ]
  },
  {
   "cell_type": "code",
   "execution_count": 36,
   "id": "b55eef5a",
   "metadata": {},
   "outputs": [],
   "source": [
    "history = model.fit(x_training, y_training, batch_size = batch_size, epochs = n_epochs,\n",
    "                   validation_split = 0.1, verbose = 0, callbacks = [earlyStopping, checkpointCallback])"
   ]
  },
  {
   "cell_type": "code",
   "execution_count": 23,
   "id": "b6f16b5a",
   "metadata": {},
   "outputs": [],
   "source": [
    "mse = np.asarray(history.history['mse'])\n",
    "val_mse = np.asarray(history.history['val_mse'])"
   ]
  },
  {
   "cell_type": "code",
   "execution_count": 24,
   "id": "f5e6f0d3",
   "metadata": {},
   "outputs": [],
   "source": [
    "num_values = (len(mse))\n",
    "values = np.zeros((num_values, 2), dtype = float)\n",
    "values[:,0] = mse\n",
    "values[:,1] = val_mse"
   ]
  },
  {
   "cell_type": "code",
   "execution_count": 27,
   "id": "51304680",
   "metadata": {},
   "outputs": [
    {
     "data": {
      "text/html": [
       "<div>\n",
       "<style scoped>\n",
       "    .dataframe tbody tr th:only-of-type {\n",
       "        vertical-align: middle;\n",
       "    }\n",
       "\n",
       "    .dataframe tbody tr th {\n",
       "        vertical-align: top;\n",
       "    }\n",
       "\n",
       "    .dataframe thead th {\n",
       "        text-align: right;\n",
       "    }\n",
       "</style>\n",
       "<table border=\"1\" class=\"dataframe\">\n",
       "  <thead>\n",
       "    <tr style=\"text-align: right;\">\n",
       "      <th></th>\n",
       "      <th>Training MSE</th>\n",
       "      <th>Validation MSE</th>\n",
       "    </tr>\n",
       "  </thead>\n",
       "  <tbody>\n",
       "    <tr>\n",
       "      <th>0</th>\n",
       "      <td>452.092133</td>\n",
       "      <td>534.011902</td>\n",
       "    </tr>\n",
       "    <tr>\n",
       "      <th>1</th>\n",
       "      <td>446.374237</td>\n",
       "      <td>527.867737</td>\n",
       "    </tr>\n",
       "    <tr>\n",
       "      <th>2</th>\n",
       "      <td>440.641144</td>\n",
       "      <td>521.777649</td>\n",
       "    </tr>\n",
       "    <tr>\n",
       "      <th>3</th>\n",
       "      <td>434.985413</td>\n",
       "      <td>515.743713</td>\n",
       "    </tr>\n",
       "    <tr>\n",
       "      <th>4</th>\n",
       "      <td>429.295380</td>\n",
       "      <td>509.764526</td>\n",
       "    </tr>\n",
       "  </tbody>\n",
       "</table>\n",
       "</div>"
      ],
      "text/plain": [
       "   Training MSE  Validation MSE\n",
       "0    452.092133      534.011902\n",
       "1    446.374237      527.867737\n",
       "2    440.641144      521.777649\n",
       "3    434.985413      515.743713\n",
       "4    429.295380      509.764526"
      ]
     },
     "execution_count": 27,
     "metadata": {},
     "output_type": "execute_result"
    }
   ],
   "source": [
    "steps = pd.RangeIndex(start = 0, stop = num_values)\n",
    "df2 = pd.DataFrame(values, steps, columns = [\"Training MSE\", \"Validation MSE\"])\n",
    "df2.head()"
   ]
  },
  {
   "cell_type": "code",
   "execution_count": 28,
   "id": "a23d325d",
   "metadata": {},
   "outputs": [
    {
     "data": {
      "text/plain": [
       "<AxesSubplot:>"
      ]
     },
     "execution_count": 28,
     "metadata": {},
     "output_type": "execute_result"
    },
    {
     "data": {
      "image/png": "[encoded data removed]",
      "text/plain": [
       "<Figure size 432x288 with 1 Axes>"
      ]
     },
     "metadata": {},
     "output_type": "display_data"
    }
   ],
   "source": [
    "# Ploting\n",
    "sns.set(style = \"whitegrid\")\n",
    "sns.lineplot(data = df2, palette = \"tab10\", linewidth = 2.5)\n"
   ]
  },
  {
   "cell_type": "code",
   "execution_count": 31,
   "id": "0ff246ed",
   "metadata": {},
   "outputs": [],
   "source": [
    "prediction = model.predict(x_test).flatten()"
   ]
  },
  {
   "cell_type": "code",
   "execution_count": 32,
   "id": "91f27840",
   "metadata": {},
   "outputs": [
    {
     "data": {
      "text/plain": [
       "array([20.976885, 18.598063, 23.860834, 21.376291, 20.659704, 20.753687,\n",
       "       24.448195, 21.946032, 21.129599, 20.94164 , 25.746267, 23.402689,\n",
       "       21.335173, 22.727224, 23.23823 , 21.664095, 26.868132, 23.332209,\n",
       "       29.270445, 20.078218, 20.530485, 21.076735, 19.37338 , 20.976885,\n",
       "       19.150183, 23.484922, 22.868193, 14.645113, 17.452705, 34.90325 ,\n",
       "       21.546625, 18.439474, 20.125208, 22.803583, 31.320341, 24.26024 ,\n",
       "       21.852053, 27.872522, 25.652292, 31.96644 , 27.455492, 30.40993 ,\n",
       "       31.837221, 17.452705, 23.056147, 23.261724, 18.562822, 23.526037,\n",
       "       36.83568 , 35.038345, 18.36899 , 34.445114, 30.88569 , 25.805006,\n",
       "       23.614141, 22.803583, 26.010584, 27.69631 , 24.653776, 24.283735,\n",
       "       23.161871, 19.23829 , 23.390944, 22.809454, 21.170713, 20.336657,\n",
       "       21.299932, 22.198595, 21.699339, 21.611235, 26.920992, 24.765375,\n",
       "       11.367628, 14.374926, 17.370474, 23.332209, 17.740515, 18.198656,\n",
       "       23.367449, 21.558374, 20.342531, 25.84612 , 19.884386, 23.8021  ,\n",
       "       22.04001 , 23.402689, 25.352736, 22.697855, 25.229391, 25.070803,\n",
       "       22.815329, 22.180979, 20.671453, 21.934282, 23.520163, 23.796225,\n",
       "       17.74639 , 17.511442, 15.626007, 20.853537, 25.617048],\n",
       "      dtype=float32)"
      ]
     },
     "execution_count": 32,
     "metadata": {},
     "output_type": "execute_result"
    }
   ],
   "source": [
    "prediction"
   ]
  },
  {
   "cell_type": "code",
   "execution_count": null,
   "id": "131e7ba5",
   "metadata": {},
   "outputs": [],
   "source": []
  }
 ],
 "metadata": {
  "kernelspec": {
   "display_name": "Python 3",
   "language": "python",
   "name": "python3"
  },
  "language_info": {
   "codemirror_mode": {
    "name": "ipython",
    "version": 3
   },
   "file_extension": ".py",
   "mimetype": "text/x-python",
   "name": "python",
   "nbconvert_exporter": "python",
   "pygments_lexer": "ipython3",
   "version": "3.8.8"
  }
 },
 "nbformat": 4,
 "nbformat_minor": 5
}
